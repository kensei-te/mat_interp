{
 "cells": [
  {
   "cell_type": "code",
   "execution_count": 8,
   "id": "40fee8b8",
   "metadata": {},
   "outputs": [],
   "source": [
    "import tensorflow as tf\n",
    "import pandas as pd\n",
    "import numpy as np\n",
    "import matplotlib.pyplot as plt\n",
    "import os,sys\n",
    "sys.path.append(\"../../\")\n",
    "%load_ext autoreload\n",
    "%autoreload 2\n",
    "!rm -rf optest"
   ]
  },
  {
   "cell_type": "code",
   "execution_count": 9,
   "id": "039af650",
   "metadata": {},
   "outputs": [],
   "source": [
    "from mat_interp.model.train_model import load_train_data, optimize_neural_net"
   ]
  },
  {
   "cell_type": "code",
   "execution_count": 10,
   "id": "2d315588",
   "metadata": {},
   "outputs": [],
   "source": [
    "EXP_DATA = \"../example_data/traindata_Section3_1.csv\"\n",
    "feature_columns = ['X1_demo1', 'X2_demo1']\n",
    "target_column = ['Y_demo1']\n",
    "X_train, y_train = load_train_data(EXP_DATA, feature_columns, target_column)"
   ]
  },
  {
   "cell_type": "code",
   "execution_count": 11,
   "id": "4cd406d5",
   "metadata": {},
   "outputs": [],
   "source": [
    "nn_settings = {\n",
    "    \"epochs\": 500,\n",
    "    \"solver\": \"Adam\",\n",
    "    \"X_train\": X_train,\n",
    "    \"y_train\": y_train,\n",
    "    \"num_trials\": 70,\n",
    "    \"working_dir\": \"optest\"\n",
    "}"
   ]
  },
  {
   "cell_type": "code",
   "execution_count": 12,
   "id": "1b3c62e6",
   "metadata": {},
   "outputs": [
    {
     "name": "stderr",
     "output_type": "stream",
     "text": [
      "\u001b[32m[I 2022-12-16 12:51:03,459]\u001b[0m A new study created in memory with name: optuna_NNtemp\u001b[0m\n",
      "/home/pedrobcst/anaconda3/envs/mat_interp/lib/python3.8/site-packages/optuna/study/study.py:393: FutureWarning: `n_jobs` argument has been deprecated in v2.7.0. This feature will be removed in v4.0.0. See https://github.com/optuna/optuna/releases/tag/v2.7.0.\n",
      "  warnings.warn(\n"
     ]
    },
    {
     "name": "stdout",
     "output_type": "stream",
     "text": [
      "Starting optimization process...\n"
     ]
    },
    {
     "name": "stderr",
     "output_type": "stream",
     "text": [
      "2022-12-16 12:51:03.895570: I tensorflow/stream_executor/cuda/cuda_gpu_executor.cc:937] successful NUMA node read from SysFS had negative value (-1), but there must be at least one NUMA node, so returning NUMA node zero\n",
      "2022-12-16 12:51:03.928298: W tensorflow/stream_executor/platform/default/dso_loader.cc:64] Could not load dynamic library 'libcusolver.so.11'; dlerror: libcusolver.so.11: cannot open shared object file: No such file or directory; LD_LIBRARY_PATH: /usr/local/cuda-11.0/lib64\n",
      "2022-12-16 12:51:03.931986: W tensorflow/core/common_runtime/gpu/gpu_device.cc:1835] Cannot dlopen some GPU libraries. Please make sure the missing libraries mentioned above are installed properly if you would like to use GPU. Follow the guide at https://www.tensorflow.org/install/gpu for how to download and setup the required libraries for your platform.\n",
      "Skipping registering GPU devices...\n",
      "2022-12-16 12:51:03.932544: I tensorflow/core/platform/cpu_feature_guard.cc:142] This TensorFlow binary is optimized with oneAPI Deep Neural Network Library (oneDNN) to use the following CPU instructions in performance-critical operations:  AVX2 FMA\n",
      "To enable them in other operations, rebuild TensorFlow with the appropriate compiler flags.\n",
      "2022-12-16 12:51:04.500684: I tensorflow/compiler/mlir/mlir_graph_optimization_pass.cc:185] None of the MLIR Optimization Passes are enabled (registered 2)\n",
      "2022-12-16 12:51:04.500717: I tensorflow/compiler/mlir/mlir_graph_optimization_pass.cc:185] None of the MLIR Optimization Passes are enabled (registered 2)\n"
     ]
    },
    {
     "name": "stdout",
     "output_type": "stream",
     "text": [
      "WARNING:tensorflow:5 out of the last 6 calls to <function PreprocessingLayer.make_adapt_function.<locals>.adapt_step at 0x7f1ed0297700> triggered tf.function retracing. Tracing is expensive and the excessive number of tracings could be due to (1) creating @tf.function repeatedly in a loop, (2) passing tensors with different shapes, (3) passing Python objects instead of tensors. For (1), please define your @tf.function outside of the loop. For (2), @tf.function has experimental_relax_shapes=True option that relaxes argument shapes that can avoid unnecessary retracing. For (3), please refer to https://www.tensorflow.org/guide/function#controlling_retracing and https://www.tensorflow.org/api_docs/python/tf/function for  more details.\n",
      "WARNING:tensorflow:6 out of the last 7 calls to <function PreprocessingLayer.make_adapt_function.<locals>.adapt_step at 0x7f1ed02de4c0> triggered tf.function retracing. Tracing is expensive and the excessive number of tracings could be due to (1) creating @tf.function repeatedly in a loop, (2) passing tensors with different shapes, (3) passing Python objects instead of tensors. For (1), please define your @tf.function outside of the loop. For (2), @tf.function has experimental_relax_shapes=True option that relaxes argument shapes that can avoid unnecessary retracing. For (3), please refer to https://www.tensorflow.org/guide/function#controlling_retracing and https://www.tensorflow.org/api_docs/python/tf/function for  more details.\n",
      "WARNING:tensorflow:5 out of the last 5 calls to <function Model.make_train_function.<locals>.train_function at 0x7f1e980c2ca0> triggered tf.function retracing. Tracing is expensive and the excessive number of tracings could be due to (1) creating @tf.function repeatedly in a loop, (2) passing tensors with different shapes, (3) passing Python objects instead of tensors. For (1), please define your @tf.function outside of the loop. For (2), @tf.function has experimental_relax_shapes=True option that relaxes argument shapes that can avoid unnecessary retracing. For (3), please refer to https://www.tensorflow.org/guide/function#controlling_retracing and https://www.tensorflow.org/api_docs/python/tf/function for  more details.\n",
      "WARNING:tensorflow:6 out of the last 6 calls to <function Model.make_train_function.<locals>.train_function at 0x7f1e8c7a4280> triggered tf.function retracing. Tracing is expensive and the excessive number of tracings could be due to (1) creating @tf.function repeatedly in a loop, (2) passing tensors with different shapes, (3) passing Python objects instead of tensors. For (1), please define your @tf.function outside of the loop. For (2), @tf.function has experimental_relax_shapes=True option that relaxes argument shapes that can avoid unnecessary retracing. For (3), please refer to https://www.tensorflow.org/guide/function#controlling_retracing and https://www.tensorflow.org/api_docs/python/tf/function for  more details.\n"
     ]
    },
    {
     "name": "stderr",
     "output_type": "stream",
     "text": [
      "\u001b[32m[I 2022-12-16 12:51:29,473]\u001b[0m Trial 3 pruned. Trial was pruned at epoch 50.\u001b[0m\n",
      "\u001b[32m[I 2022-12-16 12:51:31,730]\u001b[0m Trial 4 pruned. Trial was pruned at epoch 50.\u001b[0m\n",
      "\u001b[32m[I 2022-12-16 12:51:33,315]\u001b[0m Trial 1 pruned. Trial was pruned at epoch 50.\u001b[0m\n",
      "\u001b[32m[I 2022-12-16 12:51:36,325]\u001b[0m Trial 6 pruned. Trial was pruned at epoch 50.\u001b[0m\n",
      "\u001b[32m[I 2022-12-16 12:51:38,035]\u001b[0m Trial 8 pruned. Trial was pruned at epoch 50.\u001b[0m\n",
      "\u001b[32m[I 2022-12-16 12:51:38,291]\u001b[0m Trial 9 pruned. Trial was pruned at epoch 100.\u001b[0m\n",
      "\u001b[32m[I 2022-12-16 12:51:46,629]\u001b[0m Trial 12 pruned. Trial was pruned at epoch 50.\u001b[0m\n",
      "\u001b[32m[I 2022-12-16 12:51:48,397]\u001b[0m Trial 13 pruned. Trial was pruned at epoch 50.\u001b[0m\n",
      "\u001b[32m[I 2022-12-16 12:51:49,436]\u001b[0m Trial 5 pruned. Trial was pruned at epoch 100.\u001b[0m\n",
      "\u001b[32m[I 2022-12-16 12:51:50,824]\u001b[0m Trial 16 pruned. Trial was pruned at epoch 50.\u001b[0m\n",
      "2022-12-16 12:51:54.166682: W tensorflow/python/util/util.cc:348] Sets are not currently considered sequences, but this may change in the future, so consider avoiding using them.\n"
     ]
    },
    {
     "name": "stdout",
     "output_type": "stream",
     "text": [
      "INFO:tensorflow:Assets written to: optest/modeltrial_7/assets\n"
     ]
    },
    {
     "name": "stderr",
     "output_type": "stream",
     "text": [
      "\u001b[32m[I 2022-12-16 12:51:55,082]\u001b[0m Trial 7 finished with value: 0.9999311566352844 and parameters: {'num_layers': 4, 'num_nodes_per_layer': 72, 'starting_lr': 0.004684712795065632, 'batchsize': 128}. Best is trial 7 with value: 0.9999311566352844.\u001b[0m\n",
      "\u001b[32m[I 2022-12-16 12:51:59,593]\u001b[0m Trial 17 pruned. Trial was pruned at epoch 50.\u001b[0m\n"
     ]
    },
    {
     "name": "stdout",
     "output_type": "stream",
     "text": [
      "INFO:tensorflow:Assets written to: optest/modeltrial_11/assets\n"
     ]
    },
    {
     "name": "stderr",
     "output_type": "stream",
     "text": [
      "\u001b[32m[I 2022-12-16 12:52:03,553]\u001b[0m Trial 11 finished with value: 0.9999957084655762 and parameters: {'num_layers': 5, 'num_nodes_per_layer': 111, 'starting_lr': 0.003411433472435597, 'batchsize': 64}. Best is trial 11 with value: 0.9999957084655762.\u001b[0m\n"
     ]
    },
    {
     "name": "stdout",
     "output_type": "stream",
     "text": [
      "INFO:tensorflow:Assets written to: optest/modeltrial_2/assets\n"
     ]
    },
    {
     "name": "stderr",
     "output_type": "stream",
     "text": [
      "\u001b[32m[I 2022-12-16 12:52:05,256]\u001b[0m Trial 2 finished with value: 0.9999485611915588 and parameters: {'num_layers': 10, 'num_nodes_per_layer': 67, 'starting_lr': 0.004984810928282472, 'batchsize': 64}. Best is trial 11 with value: 0.9999957084655762.\u001b[0m\n",
      "\u001b[32m[I 2022-12-16 12:52:07,820]\u001b[0m Trial 15 pruned. Trial was pruned at epoch 100.\u001b[0m\n",
      "\u001b[32m[I 2022-12-16 12:52:08,359]\u001b[0m Trial 10 pruned. Trial was pruned at epoch 100.\u001b[0m\n",
      "\u001b[32m[I 2022-12-16 12:52:13,736]\u001b[0m Trial 0 pruned. Trial was pruned at epoch 200.\u001b[0m\n",
      "\u001b[32m[I 2022-12-16 12:52:16,769]\u001b[0m Trial 18 pruned. Trial was pruned at epoch 50.\u001b[0m\n",
      "\u001b[32m[I 2022-12-16 12:52:18,658]\u001b[0m Trial 24 pruned. Trial was pruned at epoch 50.\u001b[0m\n",
      "\u001b[32m[I 2022-12-16 12:52:20,109]\u001b[0m Trial 21 pruned. Trial was pruned at epoch 50.\u001b[0m\n",
      "\u001b[32m[I 2022-12-16 12:52:25,979]\u001b[0m Trial 23 pruned. Trial was pruned at epoch 50.\u001b[0m\n",
      "\u001b[32m[I 2022-12-16 12:52:27,676]\u001b[0m Trial 14 pruned. Trial was pruned at epoch 100.\u001b[0m\n",
      "\u001b[32m[I 2022-12-16 12:52:28,335]\u001b[0m Trial 19 pruned. Trial was pruned at epoch 100.\u001b[0m\n",
      "\u001b[32m[I 2022-12-16 12:52:32,344]\u001b[0m Trial 29 pruned. Trial was pruned at epoch 50.\u001b[0m\n",
      "\u001b[32m[I 2022-12-16 12:52:42,041]\u001b[0m Trial 34 pruned. Trial was pruned at epoch 50.\u001b[0m\n",
      "\u001b[32m[I 2022-12-16 12:52:45,168]\u001b[0m Trial 35 pruned. Trial was pruned at epoch 50.\u001b[0m\n",
      "\u001b[32m[I 2022-12-16 12:52:53,395]\u001b[0m Trial 32 pruned. Trial was pruned at epoch 100.\u001b[0m\n"
     ]
    },
    {
     "name": "stdout",
     "output_type": "stream",
     "text": [
      "INFO:tensorflow:Assets written to: optest/modeltrial_27/assets\n"
     ]
    },
    {
     "name": "stderr",
     "output_type": "stream",
     "text": [
      "\u001b[32m[I 2022-12-16 12:52:59,316]\u001b[0m Trial 27 finished with value: 0.9999457001686096 and parameters: {'num_layers': 10, 'num_nodes_per_layer': 97, 'starting_lr': 0.0032604483418212688, 'batchsize': 64}. Best is trial 11 with value: 0.9999957084655762.\u001b[0m\n",
      "\u001b[32m[I 2022-12-16 12:53:00,932]\u001b[0m Trial 36 pruned. Trial was pruned at epoch 50.\u001b[0m\n",
      "\u001b[32m[I 2022-12-16 12:53:02,711]\u001b[0m Trial 22 pruned. Trial was pruned at epoch 100.\u001b[0m\n"
     ]
    },
    {
     "name": "stdout",
     "output_type": "stream",
     "text": [
      "INFO:tensorflow:Assets written to: optest/modeltrial_33/assets\n"
     ]
    },
    {
     "name": "stderr",
     "output_type": "stream",
     "text": [
      "\u001b[32m[I 2022-12-16 12:53:09,170]\u001b[0m Trial 33 finished with value: 0.999968409538269 and parameters: {'num_layers': 4, 'num_nodes_per_layer': 90, 'starting_lr': 0.003652729325230918, 'batchsize': 64}. Best is trial 11 with value: 0.9999957084655762.\u001b[0m\n"
     ]
    },
    {
     "name": "stdout",
     "output_type": "stream",
     "text": [
      "INFO:tensorflow:Assets written to: optest/modeltrial_30/assets\n"
     ]
    },
    {
     "name": "stderr",
     "output_type": "stream",
     "text": [
      "\u001b[32m[I 2022-12-16 12:53:10,674]\u001b[0m Trial 30 finished with value: 0.9999865889549255 and parameters: {'num_layers': 5, 'num_nodes_per_layer': 96, 'starting_lr': 0.003509369283545774, 'batchsize': 64}. Best is trial 11 with value: 0.9999957084655762.\u001b[0m\n",
      "\u001b[32m[I 2022-12-16 12:53:15,636]\u001b[0m Trial 20 pruned. Trial was pruned at epoch 200.\u001b[0m\n"
     ]
    },
    {
     "name": "stdout",
     "output_type": "stream",
     "text": [
      "INFO:tensorflow:Assets written to: optest/modeltrial_26/assets\n"
     ]
    },
    {
     "name": "stderr",
     "output_type": "stream",
     "text": [
      "\u001b[32m[I 2022-12-16 12:53:20,165]\u001b[0m Trial 26 finished with value: 0.9999726414680481 and parameters: {'num_layers': 10, 'num_nodes_per_layer': 100, 'starting_lr': 0.003251042612674222, 'batchsize': 64}. Best is trial 11 with value: 0.9999957084655762.\u001b[0m\n"
     ]
    },
    {
     "name": "stdout",
     "output_type": "stream",
     "text": [
      "INFO:tensorflow:Assets written to: optest/modeltrial_28/assets\n"
     ]
    },
    {
     "name": "stderr",
     "output_type": "stream",
     "text": [
      "\u001b[32m[I 2022-12-16 12:53:22,346]\u001b[0m Trial 28 finished with value: 0.9999784827232361 and parameters: {'num_layers': 10, 'num_nodes_per_layer': 100, 'starting_lr': 0.0035317409259315756, 'batchsize': 64}. Best is trial 11 with value: 0.9999957084655762.\u001b[0m\n"
     ]
    },
    {
     "name": "stdout",
     "output_type": "stream",
     "text": [
      "INFO:tensorflow:Assets written to: optest/modeltrial_25/assets\n"
     ]
    },
    {
     "name": "stderr",
     "output_type": "stream",
     "text": [
      "\u001b[32m[I 2022-12-16 12:53:31,348]\u001b[0m Trial 25 finished with value: 0.9999873042106628 and parameters: {'num_layers': 10, 'num_nodes_per_layer': 99, 'starting_lr': 0.003043871796600001, 'batchsize': 64}. Best is trial 11 with value: 0.9999957084655762.\u001b[0m\n"
     ]
    },
    {
     "name": "stdout",
     "output_type": "stream",
     "text": [
      "INFO:tensorflow:Assets written to: optest/modeltrial_37/assets\n"
     ]
    },
    {
     "name": "stderr",
     "output_type": "stream",
     "text": [
      "\u001b[32m[I 2022-12-16 12:53:34,738]\u001b[0m Trial 37 finished with value: 0.9999663233757019 and parameters: {'num_layers': 5, 'num_nodes_per_layer': 88, 'starting_lr': 0.004918657009204185, 'batchsize': 64}. Best is trial 11 with value: 0.9999957084655762.\u001b[0m\n",
      "\u001b[32m[I 2022-12-16 12:53:36,957]\u001b[0m Trial 44 pruned. Trial was pruned at epoch 50.\u001b[0m\n"
     ]
    },
    {
     "name": "stdout",
     "output_type": "stream",
     "text": [
      "INFO:tensorflow:Assets written to: optest/modeltrial_38/assets\n"
     ]
    },
    {
     "name": "stderr",
     "output_type": "stream",
     "text": [
      "\u001b[32m[I 2022-12-16 12:53:49,050]\u001b[0m Trial 38 finished with value: 0.9999851584434509 and parameters: {'num_layers': 5, 'num_nodes_per_layer': 89, 'starting_lr': 0.004980544804486447, 'batchsize': 64}. Best is trial 11 with value: 0.9999957084655762.\u001b[0m\n"
     ]
    },
    {
     "name": "stdout",
     "output_type": "stream",
     "text": [
      "INFO:tensorflow:Assets written to: optest/modeltrial_41/assets\n"
     ]
    },
    {
     "name": "stderr",
     "output_type": "stream",
     "text": [
      "\u001b[32m[I 2022-12-16 12:54:00,994]\u001b[0m Trial 41 finished with value: 0.9999902844429016 and parameters: {'num_layers': 7, 'num_nodes_per_layer': 128, 'starting_lr': 0.0032946245831313066, 'batchsize': 64}. Best is trial 11 with value: 0.9999957084655762.\u001b[0m\n"
     ]
    },
    {
     "name": "stdout",
     "output_type": "stream",
     "text": [
      "INFO:tensorflow:Assets written to: optest/modeltrial_40/assets\n"
     ]
    },
    {
     "name": "stderr",
     "output_type": "stream",
     "text": [
      "\u001b[32m[I 2022-12-16 12:54:07,866]\u001b[0m Trial 40 finished with value: 0.9999443888664246 and parameters: {'num_layers': 10, 'num_nodes_per_layer': 88, 'starting_lr': 0.0031568653503445494, 'batchsize': 64}. Best is trial 11 with value: 0.9999957084655762.\u001b[0m\n"
     ]
    },
    {
     "name": "stdout",
     "output_type": "stream",
     "text": [
      "INFO:tensorflow:Assets written to: optest/modeltrial_31/assets\n"
     ]
    },
    {
     "name": "stderr",
     "output_type": "stream",
     "text": [
      "\u001b[32m[I 2022-12-16 12:54:10,027]\u001b[0m Trial 31 finished with value: 0.9999893307685852 and parameters: {'num_layers': 10, 'num_nodes_per_layer': 56, 'starting_lr': 0.003577321221569989, 'batchsize': 64}. Best is trial 11 with value: 0.9999957084655762.\u001b[0m\n",
      "\u001b[32m[I 2022-12-16 12:54:10,400]\u001b[0m Trial 39 pruned. Trial was pruned at epoch 100.\u001b[0m\n"
     ]
    },
    {
     "name": "stdout",
     "output_type": "stream",
     "text": [
      "INFO:tensorflow:Assets written to: optest/modeltrial_45/assets\n"
     ]
    },
    {
     "name": "stderr",
     "output_type": "stream",
     "text": [
      "\u001b[32m[I 2022-12-16 12:54:15,103]\u001b[0m Trial 45 finished with value: 0.9999825954437256 and parameters: {'num_layers': 5, 'num_nodes_per_layer': 85, 'starting_lr': 0.0036712277102788405, 'batchsize': 64}. Best is trial 11 with value: 0.9999957084655762.\u001b[0m\n"
     ]
    },
    {
     "name": "stdout",
     "output_type": "stream",
     "text": [
      "INFO:tensorflow:Assets written to: optest/modeltrial_43/assets\n"
     ]
    },
    {
     "name": "stderr",
     "output_type": "stream",
     "text": [
      "\u001b[32m[I 2022-12-16 12:54:17,858]\u001b[0m Trial 43 finished with value: 0.9999939203262329 and parameters: {'num_layers': 5, 'num_nodes_per_layer': 87, 'starting_lr': 0.003756136849818045, 'batchsize': 64}. Best is trial 11 with value: 0.9999957084655762.\u001b[0m\n"
     ]
    },
    {
     "name": "stdout",
     "output_type": "stream",
     "text": [
      "INFO:tensorflow:Assets written to: optest/modeltrial_42/assets\n"
     ]
    },
    {
     "name": "stderr",
     "output_type": "stream",
     "text": [
      "\u001b[32m[I 2022-12-16 12:54:31,338]\u001b[0m Trial 42 finished with value: 0.9999873042106628 and parameters: {'num_layers': 7, 'num_nodes_per_layer': 81, 'starting_lr': 0.003190157523994073, 'batchsize': 64}. Best is trial 11 with value: 0.9999957084655762.\u001b[0m\n"
     ]
    },
    {
     "name": "stdout",
     "output_type": "stream",
     "text": [
      "INFO:tensorflow:Assets written to: optest/modeltrial_46/assets\n"
     ]
    },
    {
     "name": "stderr",
     "output_type": "stream",
     "text": [
      "\u001b[32m[I 2022-12-16 12:54:41,980]\u001b[0m Trial 46 finished with value: 0.999984085559845 and parameters: {'num_layers': 7, 'num_nodes_per_layer': 126, 'starting_lr': 0.002957591258397126, 'batchsize': 64}. Best is trial 11 with value: 0.9999957084655762.\u001b[0m\n"
     ]
    },
    {
     "name": "stdout",
     "output_type": "stream",
     "text": [
      "INFO:tensorflow:Assets written to: optest/modeltrial_47/assets\n"
     ]
    },
    {
     "name": "stderr",
     "output_type": "stream",
     "text": [
      "\u001b[32m[I 2022-12-16 12:54:47,091]\u001b[0m Trial 47 finished with value: 0.9999880790710449 and parameters: {'num_layers': 7, 'num_nodes_per_layer': 131, 'starting_lr': 0.0021930928669594983, 'batchsize': 64}. Best is trial 11 with value: 0.9999957084655762.\u001b[0m\n"
     ]
    },
    {
     "name": "stdout",
     "output_type": "stream",
     "text": [
      "INFO:tensorflow:Assets written to: optest/modeltrial_48/assets\n"
     ]
    },
    {
     "name": "stderr",
     "output_type": "stream",
     "text": [
      "\u001b[32m[I 2022-12-16 12:54:51,698]\u001b[0m Trial 48 finished with value: 0.9999892115592957 and parameters: {'num_layers': 7, 'num_nodes_per_layer': 134, 'starting_lr': 0.002306901389780634, 'batchsize': 64}. Best is trial 11 with value: 0.9999957084655762.\u001b[0m\n"
     ]
    },
    {
     "name": "stdout",
     "output_type": "stream",
     "text": [
      "INFO:tensorflow:Assets written to: optest/modeltrial_49/assets\n"
     ]
    },
    {
     "name": "stderr",
     "output_type": "stream",
     "text": [
      "\u001b[32m[I 2022-12-16 12:54:56,080]\u001b[0m Trial 49 finished with value: 0.9999951720237732 and parameters: {'num_layers': 7, 'num_nodes_per_layer': 130, 'starting_lr': 0.002228120908969462, 'batchsize': 64}. Best is trial 11 with value: 0.9999957084655762.\u001b[0m\n"
     ]
    },
    {
     "name": "stdout",
     "output_type": "stream",
     "text": [
      "INFO:tensorflow:Assets written to: optest/modeltrial_50/assets\n"
     ]
    },
    {
     "name": "stderr",
     "output_type": "stream",
     "text": [
      "\u001b[32m[I 2022-12-16 12:55:04,236]\u001b[0m Trial 50 finished with value: 0.9999862909317017 and parameters: {'num_layers': 7, 'num_nodes_per_layer': 130, 'starting_lr': 0.0029052028236047907, 'batchsize': 64}. Best is trial 11 with value: 0.9999957084655762.\u001b[0m\n",
      "\u001b[32m[I 2022-12-16 12:55:07,398]\u001b[0m Trial 59 pruned. Trial was pruned at epoch 50.\u001b[0m\n"
     ]
    },
    {
     "name": "stdout",
     "output_type": "stream",
     "text": [
      "INFO:tensorflow:Assets written to: optest/modeltrial_52/assets\n"
     ]
    },
    {
     "name": "stderr",
     "output_type": "stream",
     "text": [
      "\u001b[32m[I 2022-12-16 12:55:18,811]\u001b[0m Trial 52 finished with value: 0.9999921321868896 and parameters: {'num_layers': 7, 'num_nodes_per_layer': 130, 'starting_lr': 0.004141115979949085, 'batchsize': 64}. Best is trial 11 with value: 0.9999957084655762.\u001b[0m\n"
     ]
    },
    {
     "name": "stdout",
     "output_type": "stream",
     "text": [
      "INFO:tensorflow:Assets written to: optest/modeltrial_55/assets\n"
     ]
    },
    {
     "name": "stderr",
     "output_type": "stream",
     "text": [
      "\u001b[32m[I 2022-12-16 12:55:20,198]\u001b[0m Trial 55 finished with value: 0.9999862909317017 and parameters: {'num_layers': 7, 'num_nodes_per_layer': 128, 'starting_lr': 0.0028729573485480773, 'batchsize': 64}. Best is trial 11 with value: 0.9999957084655762.\u001b[0m\n",
      "\u001b[32m[I 2022-12-16 12:55:22,809]\u001b[0m Trial 57 pruned. Trial was pruned at epoch 100.\u001b[0m\n",
      "\u001b[32m[I 2022-12-16 12:55:24,344]\u001b[0m Trial 53 pruned. Trial was pruned at epoch 200.\u001b[0m\n"
     ]
    },
    {
     "name": "stdout",
     "output_type": "stream",
     "text": [
      "INFO:tensorflow:Assets written to: optest/modeltrial_54/assets\n"
     ]
    },
    {
     "name": "stderr",
     "output_type": "stream",
     "text": [
      "\u001b[32m[I 2022-12-16 12:55:27,389]\u001b[0m Trial 54 finished with value: 0.9999895095825195 and parameters: {'num_layers': 7, 'num_nodes_per_layer': 132, 'starting_lr': 0.002918630073729243, 'batchsize': 64}. Best is trial 11 with value: 0.9999957084655762.\u001b[0m\n"
     ]
    },
    {
     "name": "stdout",
     "output_type": "stream",
     "text": [
      "INFO:tensorflow:Assets written to: optest/modeltrial_51/assets\n"
     ]
    },
    {
     "name": "stderr",
     "output_type": "stream",
     "text": [
      "\u001b[32m[I 2022-12-16 12:55:31,663]\u001b[0m Trial 51 finished with value: 0.9999921917915344 and parameters: {'num_layers': 7, 'num_nodes_per_layer': 129, 'starting_lr': 0.002167945179887767, 'batchsize': 64}. Best is trial 11 with value: 0.9999957084655762.\u001b[0m\n",
      "\u001b[32m[I 2022-12-16 12:55:48,732]\u001b[0m Trial 60 pruned. Trial was pruned at epoch 100.\u001b[0m\n",
      "\u001b[32m[I 2022-12-16 12:55:48,845]\u001b[0m Trial 69 pruned. Trial was pruned at epoch 50.\u001b[0m\n"
     ]
    },
    {
     "name": "stdout",
     "output_type": "stream",
     "text": [
      "INFO:tensorflow:Assets written to: optest/modeltrial_56/assets\n"
     ]
    },
    {
     "name": "stderr",
     "output_type": "stream",
     "text": [
      "\u001b[32m[I 2022-12-16 12:55:50,522]\u001b[0m Trial 56 finished with value: 0.9999960064888 and parameters: {'num_layers': 7, 'num_nodes_per_layer': 131, 'starting_lr': 0.0029174487117141325, 'batchsize': 64}. Best is trial 56 with value: 0.9999960064888.\u001b[0m\n"
     ]
    },
    {
     "name": "stdout",
     "output_type": "stream",
     "text": [
      "INFO:tensorflow:Assets written to: optest/modeltrial_58/assets\n"
     ]
    },
    {
     "name": "stderr",
     "output_type": "stream",
     "text": [
      "\u001b[32m[I 2022-12-16 12:55:57,852]\u001b[0m Trial 58 finished with value: 0.9999874234199524 and parameters: {'num_layers': 7, 'num_nodes_per_layer': 132, 'starting_lr': 0.004354061975736721, 'batchsize': 64}. Best is trial 56 with value: 0.9999960064888.\u001b[0m\n"
     ]
    },
    {
     "name": "stdout",
     "output_type": "stream",
     "text": [
      "INFO:tensorflow:Assets written to: optest/modeltrial_63/assets\n"
     ]
    },
    {
     "name": "stderr",
     "output_type": "stream",
     "text": [
      "\u001b[32m[I 2022-12-16 12:56:05,943]\u001b[0m Trial 63 finished with value: 0.9999885559082031 and parameters: {'num_layers': 6, 'num_nodes_per_layer': 139, 'starting_lr': 0.004155441523551454, 'batchsize': 64}. Best is trial 56 with value: 0.9999960064888.\u001b[0m\n",
      "\u001b[32m[I 2022-12-16 12:56:06,150]\u001b[0m Trial 66 pruned. Trial was pruned at epoch 100.\u001b[0m\n",
      "\u001b[32m[I 2022-12-16 12:56:09,360]\u001b[0m Trial 67 pruned. Trial was pruned at epoch 100.\u001b[0m\n"
     ]
    },
    {
     "name": "stdout",
     "output_type": "stream",
     "text": [
      "INFO:tensorflow:Assets written to: optest/modeltrial_61/assets\n"
     ]
    },
    {
     "name": "stderr",
     "output_type": "stream",
     "text": [
      "\u001b[32m[I 2022-12-16 12:56:10,862]\u001b[0m Trial 61 finished with value: 0.9999902844429016 and parameters: {'num_layers': 9, 'num_nodes_per_layer': 137, 'starting_lr': 0.0042783180506453375, 'batchsize': 64}. Best is trial 56 with value: 0.9999960064888.\u001b[0m\n"
     ]
    },
    {
     "name": "stdout",
     "output_type": "stream",
     "text": [
      "INFO:tensorflow:Assets written to: optest/modeltrial_64/assets\n"
     ]
    },
    {
     "name": "stderr",
     "output_type": "stream",
     "text": [
      "\u001b[32m[I 2022-12-16 12:56:11,508]\u001b[0m Trial 64 finished with value: 0.999991238117218 and parameters: {'num_layers': 6, 'num_nodes_per_layer': 141, 'starting_lr': 0.004231141004703416, 'batchsize': 64}. Best is trial 56 with value: 0.9999960064888.\u001b[0m\n",
      "\u001b[32m[I 2022-12-16 12:56:12,631]\u001b[0m Trial 65 pruned. Trial was pruned at epoch 100.\u001b[0m\n",
      "\u001b[32m[I 2022-12-16 12:56:12,664]\u001b[0m Trial 68 pruned. Trial was pruned at epoch 100.\u001b[0m\n"
     ]
    },
    {
     "name": "stdout",
     "output_type": "stream",
     "text": [
      "INFO:tensorflow:Assets written to: optest/modeltrial_62/assets\n"
     ]
    },
    {
     "name": "stderr",
     "output_type": "stream",
     "text": [
      "\u001b[32m[I 2022-12-16 12:56:14,778]\u001b[0m Trial 62 finished with value: 0.999982476234436 and parameters: {'num_layers': 9, 'num_nodes_per_layer': 137, 'starting_lr': 0.004092813502241057, 'batchsize': 64}. Best is trial 56 with value: 0.9999960064888.\u001b[0m\n"
     ]
    },
    {
     "name": "stdout",
     "output_type": "stream",
     "text": [
      "Optimization Finished.\n",
      "Fineshed cleaning up files.. best model kept at optest/modeltrial_56\n"
     ]
    }
   ],
   "source": [
    "optimize_neural_net(nn_settings)"
   ]
  },
  {
   "cell_type": "code",
   "execution_count": null,
   "id": "13aa5efd",
   "metadata": {},
   "outputs": [],
   "source": []
  }
 ],
 "metadata": {
  "kernelspec": {
   "display_name": "Python 3 (ipykernel)",
   "language": "python",
   "name": "python3"
  },
  "language_info": {
   "codemirror_mode": {
    "name": "ipython",
    "version": 3
   },
   "file_extension": ".py",
   "mimetype": "text/x-python",
   "name": "python",
   "nbconvert_exporter": "python",
   "pygments_lexer": "ipython3",
   "version": "3.8.12"
  }
 },
 "nbformat": 4,
 "nbformat_minor": 5
}
